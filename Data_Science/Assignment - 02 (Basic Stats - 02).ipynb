{
 "cells": [
  {
   "cell_type": "code",
   "execution_count": 1,
   "id": "625b724f",
   "metadata": {},
   "outputs": [],
   "source": [
    "import numpy as np #to perform numerical calculation\n",
    "import pandas as pd # to data manipulation\n",
    "import scipy.stats as stats # to calculate confidance interval using t-score and z-score as per need in given data"
   ]
  },
  {
   "cell_type": "code",
   "execution_count": 15,
   "id": "b02bb23a",
   "metadata": {
    "scrolled": true
   },
   "outputs": [
    {
     "data": {
      "text/plain": [
       "[1.13,\n",
       " 1.55,\n",
       " 1.43,\n",
       " 0.92,\n",
       " 1.25,\n",
       " 1.36,\n",
       " 1.32,\n",
       " 0.85,\n",
       " 1.07,\n",
       " 1.48,\n",
       " 1.2,\n",
       " 1.33,\n",
       " 1.18,\n",
       " 1.22,\n",
       " 1.29]"
      ]
     },
     "execution_count": 15,
     "metadata": {},
     "output_type": "execute_result"
    }
   ],
   "source": [
    "# list data structure created\n",
    "sample_data=[1.13, 1.55, 1.43, 0.92, 1.25, 1.36, 1.32, 0.85, 1.07, 1.48, 1.20, 1.33, 1.18, 1.22, 1.29]\n",
    "sample_data # to store data list data structure used and variable created"
   ]
  },
  {
   "cell_type": "code",
   "execution_count": 3,
   "id": "f61a74cd",
   "metadata": {},
   "outputs": [],
   "source": [
    "confidance_interval=0.99 # give confidnce interval"
   ]
  },
  {
   "cell_type": "code",
   "execution_count": 4,
   "id": "f8896666",
   "metadata": {},
   "outputs": [
    {
     "data": {
      "text/plain": [
       "1.2386666666666666"
      ]
     },
     "execution_count": 4,
     "metadata": {},
     "output_type": "execute_result"
    }
   ],
   "source": [
    "sample_mean=np.mean(sample_data) # to calculate mean np.mean(list_data) used\n",
    "sample_mean # mean value stored in varibale"
   ]
  },
  {
   "cell_type": "code",
   "execution_count": 5,
   "id": "886998c6",
   "metadata": {},
   "outputs": [
    {
     "data": {
      "text/plain": [
       "0.18661427836285438"
      ]
     },
     "execution_count": 5,
     "metadata": {},
     "output_type": "execute_result"
    }
   ],
   "source": [
    "sample_std=np.std(sample_data) # to calculate standard daviation np.std(list_data) used\n",
    "sample_std # standard daviation stored in variable"
   ]
  },
  {
   "cell_type": "code",
   "execution_count": 6,
   "id": "022f68f9",
   "metadata": {},
   "outputs": [
    {
     "data": {
      "text/plain": [
       "14"
      ]
     },
     "execution_count": 6,
     "metadata": {},
     "output_type": "execute_result"
    }
   ],
   "source": [
    "df=len(sample_data)-1 # to calculate degree of freedom list's length() function used (degree of freedom  = length of data-1)\n",
    "df # degree of freedom stored in variable"
   ]
  },
  {
   "cell_type": "code",
   "execution_count": 7,
   "id": "d344ae31",
   "metadata": {},
   "outputs": [
    {
     "data": {
      "text/plain": [
       "2.97684273411266"
      ]
     },
     "execution_count": 7,
     "metadata": {},
     "output_type": "execute_result"
    }
   ],
   "source": [
    "# t.ppf module imported from scipy.stats library\n",
    "stats.t.ppf(0.995,14) # in given problem population standard daviation is not given, so t-score used t.ppf(probablity,degree of freedom)"
   ]
  },
  {
   "cell_type": "code",
   "execution_count": 8,
   "id": "977ddb3f",
   "metadata": {},
   "outputs": [
    {
     "data": {
      "text/plain": [
       "(1.0952316686385626, 1.3821016646947706)"
      ]
     },
     "execution_count": 8,
     "metadata": {},
     "output_type": "execute_result"
    }
   ],
   "source": [
    "# t.interval module imported from scipy.stats library\n",
    "stats.t.interval(confidance_interval,df,loc=sample_mean, scale=sample_std/np.sqrt(15)) # to calculate confidance interval"
   ]
  },
  {
   "cell_type": "code",
   "execution_count": 9,
   "id": "d8ed9260",
   "metadata": {
    "scrolled": true
   },
   "outputs": [
    {
     "data": {
      "text/plain": [
       "[1.13,\n",
       " 1.55,\n",
       " 1.43,\n",
       " 0.92,\n",
       " 1.25,\n",
       " 1.36,\n",
       " 1.32,\n",
       " 0.85,\n",
       " 1.07,\n",
       " 1.48,\n",
       " 1.2,\n",
       " 1.33,\n",
       " 1.18,\n",
       " 1.22,\n",
       " 1.29]"
      ]
     },
     "execution_count": 9,
     "metadata": {},
     "output_type": "execute_result"
    }
   ],
   "source": [
    "sample_data # to diaplay sample data "
   ]
  },
  {
   "cell_type": "code",
   "execution_count": 10,
   "id": "7c81a073",
   "metadata": {},
   "outputs": [],
   "source": [
    "confidance_interval=0.99 # given confidance interval"
   ]
  },
  {
   "cell_type": "code",
   "execution_count": 11,
   "id": "86818482",
   "metadata": {},
   "outputs": [
    {
     "data": {
      "text/plain": [
       "1.2386666666666666"
      ]
     },
     "execution_count": 11,
     "metadata": {},
     "output_type": "execute_result"
    }
   ],
   "source": [
    "sample_mean # to display mean of sample data"
   ]
  },
  {
   "cell_type": "code",
   "execution_count": 12,
   "id": "275f762c",
   "metadata": {},
   "outputs": [
    {
     "data": {
      "text/plain": [
       "0.2"
      ]
     },
     "execution_count": 12,
     "metadata": {},
     "output_type": "execute_result"
    }
   ],
   "source": [
    "pop_std=0.2 # to store population standard_daviation variable created\n",
    "pop_std # to display population standard_daviation"
   ]
  },
  {
   "cell_type": "code",
   "execution_count": 13,
   "id": "0fb1ebc9",
   "metadata": {},
   "outputs": [
    {
     "data": {
      "text/plain": [
       "2.5758293035489004"
      ]
     },
     "execution_count": 13,
     "metadata": {},
     "output_type": "execute_result"
    }
   ],
   "source": [
    "# norm.ppf module imported from scipy.stats library\n",
    "stats.norm.ppf(0.995) # to calculate z-score for probablity"
   ]
  },
  {
   "cell_type": "code",
   "execution_count": 14,
   "id": "14165001",
   "metadata": {},
   "outputs": [
    {
     "data": {
      "text/plain": [
       "(1.1056514133957607, 1.3716819199375725)"
      ]
     },
     "execution_count": 14,
     "metadata": {},
     "output_type": "execute_result"
    }
   ],
   "source": [
    "#norm.interval module imported from scipy.stats library\n",
    "stats.norm.interval(confidance_interval,sample_mean,pop_std/np.sqrt(15)) # to calculate confidance interval"
   ]
  }
 ],
 "metadata": {
  "kernelspec": {
   "display_name": "Python 3 (ipykernel)",
   "language": "python",
   "name": "python3"
  },
  "language_info": {
   "codemirror_mode": {
    "name": "ipython",
    "version": 3
   },
   "file_extension": ".py",
   "mimetype": "text/x-python",
   "name": "python",
   "nbconvert_exporter": "python",
   "pygments_lexer": "ipython3",
   "version": "3.11.7"
  }
 },
 "nbformat": 4,
 "nbformat_minor": 5
}
